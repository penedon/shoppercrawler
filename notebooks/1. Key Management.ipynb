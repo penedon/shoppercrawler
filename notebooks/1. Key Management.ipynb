{
 "cells": [
  {
   "cell_type": "markdown",
   "metadata": {},
   "source": [
    "### 1. Requisitos"
   ]
  },
  {
   "cell_type": "code",
   "execution_count": 1,
   "metadata": {},
   "outputs": [],
   "source": [
    "import sys\n",
    "sys.path.append(\"..\") # Upscale notebooks project folder\n",
    "\n",
    "from src.credentials import Credential"
   ]
  },
  {
   "cell_type": "markdown",
   "metadata": {},
   "source": [
    "### 2.1 Inserir Credenciais"
   ]
  },
  {
   "cell_type": "code",
   "execution_count": 2,
   "metadata": {},
   "outputs": [
    {
     "name": "stdout",
     "output_type": "stream",
     "text": [
      "Directory  ../data/keys/  Created \n",
      "../data/keys/shopper_credentials.p Created\n"
     ]
    }
   ],
   "source": [
    "shopper_credential = {\n",
    "    'name': 'shopper',\n",
    "    'email': '',                 # Inserir Email\n",
    "    'password': ''               # Inserir Senha\n",
    "}\n",
    "\n",
    "credential = Credential(shopper_credential['name'],\n",
    "                        shopper_credential['email'],\n",
    "                        shopper_credential['password'])\n",
    "credential.export_file()"
   ]
  },
  {
   "cell_type": "markdown",
   "metadata": {},
   "source": [
    "### 2.2 Carregar Credenciais"
   ]
  },
  {
   "cell_type": "code",
   "execution_count": 5,
   "metadata": {},
   "outputs": [],
   "source": [
    "credential = Credential('shopper')"
   ]
  }
 ],
 "metadata": {
  "interpreter": {
   "hash": "79697de76478c5c601725669d56e7191ae8b056f973547ad1813cbc6165a6c58"
  },
  "kernelspec": {
   "display_name": "Python 3.8.5 64-bit ('playground': conda)",
   "language": "python",
   "name": "python3"
  },
  "language_info": {
   "codemirror_mode": {
    "name": "ipython",
    "version": 3
   },
   "file_extension": ".py",
   "mimetype": "text/x-python",
   "name": "python",
   "nbconvert_exporter": "python",
   "pygments_lexer": "ipython3",
   "version": "3.9.10"
  },
  "orig_nbformat": 4
 },
 "nbformat": 4,
 "nbformat_minor": 2
}
